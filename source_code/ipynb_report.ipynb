{
 "cells": [
  {
   "cell_type": "code",
   "execution_count": null,
   "metadata": {
    "collapsed": true
   },
   "outputs": [],
   "source": [
    "%matplotlib qt4\n",
    "# %matplotlib inline\n",
    "import warnings\n",
    "warnings.filterwarnings('ignore')"
   ]
  },
  {
   "cell_type": "code",
   "execution_count": null,
   "metadata": {
    "collapsed": true
   },
   "outputs": [],
   "source": [
    "from params_ica import subject_ids, sessions\n",
    "from params_ica import main_path, data_path, preproc_pipeline_name\n",
    "from ipywidgets import widgets\n",
    "from IPython.display import display, clear_output, Javascript\n",
    "import mne\n",
    "from mne.io import read_raw_fif\n",
    "from mne.preprocessing import read_ica\n",
    "from mne.preprocessing import create_ecg_epochs, create_eog_epochs\n",
    "import numpy as np\n",
    "import getpass\n",
    "import os\n",
    "# Widget related imports\n",
    "from traitlets import Unicode\n",
    "# nbconvert related imports\n",
    "from nbconvert import get_export_names, export_by_name\n",
    "from nbconvert.writers import FilesWriter\n",
    "from nbformat import read, NO_CONVERT\n",
    "from nbconvert.utils.exceptions import ConversionException\n",
    "warnings.filterwarnings('ignore')"
   ]
  },
  {
   "cell_type": "markdown",
   "metadata": {},
   "source": [
    "## Choose subject ID:"
   ]
  },
  {
   "cell_type": "code",
   "execution_count": null,
   "metadata": {
    "collapsed": true
   },
   "outputs": [],
   "source": [
    "name_sel = widgets.Select(\n",
    "    description='Subject ID:',\n",
    "    options=subject_ids\n",
    ")\n",
    "display(name_sel)\n",
    "\n",
    "cond_sel = widgets.RadioButtons(\n",
    "    description='Condition:',\n",
    "    options=sessions,\n",
    ")\n",
    "display(cond_sel)"
   ]
  },
  {
   "cell_type": "code",
   "execution_count": null,
   "metadata": {
    "collapsed": true
   },
   "outputs": [],
   "source": [
    "%%capture\n",
    "if cond_sel.value == sessions[0]:\n",
    "    session = sessions[0]\n",
    "elif cond_sel.value == sessions[1]:\n",
    "    session = sessions[1]\n",
    "subj_ID = name_sel.value\n",
    "\n",
    "# --------------------------------------------------- #\n",
    "\n",
    "data_path = os.path.join(main_path, subj_ID)\n",
    "pipeline_path = os.path.join(main_path, preproc_pipeline_name)\n",
    "sbj_data_path = os.path.join(main_path, subj_ID, session, 'meg')\n",
    "\n",
    "basename = subj_ID + '_task-rest_run-01_meg_raw_filt_dsamp'\n",
    "results_folder = os.path.join('preproc_meeg', '_sess_index_' + session + '_subject_id_' + subj_ID)\n",
    "\n",
    "ica_fname = basename + '_ica.fif'\n",
    "ica_TS_fname = basename + '_ica-tseries.fif'\n",
    "report_fname = basename + '-report.html'\n",
    "ica_solution_fname = basename + '_ica_solution.fif'\n",
    "\n",
    "raw_ica_file = os.path.join(pipeline_path, results_folder, 'ica', ica_fname)\n",
    "new_raw_ica_file = os.path.join(sbj_data_path, ica_fname)\n",
    "ica_TS_file = os.path.join(pipeline_path, results_folder, 'ica', ica_TS_fname)\n",
    "ica_solution_file = os.path.join(pipeline_path, results_folder, 'ica', ica_solution_fname)\n",
    "report_file = os.path.join(pipeline_path, results_folder, 'ica', report_fname)\n",
    "\n",
    "# Load data\n",
    "raw = read_raw_fif(raw_ica_file, preload=True)\n",
    "ica = read_ica(ica_solution_file)\n",
    "ica.labels_ = dict()\n",
    "ica_TS = ica.get_sources(raw)\n"
   ]
  },
  {
   "cell_type": "markdown",
   "metadata": {},
   "source": [
    "## Cell below opens an html report in a web-browser"
   ]
  },
  {
   "cell_type": "code",
   "execution_count": null,
   "metadata": {
    "collapsed": true
   },
   "outputs": [],
   "source": [
    "%%bash -s \"$report_file\"\n",
    "firefox -new-window $1"
   ]
  },
  {
   "cell_type": "code",
   "execution_count": null,
   "metadata": {
    "collapsed": true
   },
   "outputs": [],
   "source": [
    "ica.exclude"
   ]
  },
  {
   "cell_type": "code",
   "execution_count": null,
   "metadata": {
    "collapsed": true
   },
   "outputs": [],
   "source": [
    "ica.plot_sources(raw)"
   ]
  },
  {
   "cell_type": "code",
   "execution_count": null,
   "metadata": {
    "collapsed": true
   },
   "outputs": [],
   "source": [
    "ica.plot_components(inst=raw)"
   ]
  },
  {
   "cell_type": "code",
   "execution_count": null,
   "metadata": {
    "collapsed": true
   },
   "outputs": [],
   "source": [
    "# ica.exclude\n",
    "if ica.exclude:\n",
    "    ica.plot_properties(raw, picks=ica.exclude)"
   ]
  },
  {
   "cell_type": "markdown",
   "metadata": {},
   "source": [
    "## Exclude ICA components"
   ]
  },
  {
   "cell_type": "markdown",
   "metadata": {},
   "source": [
    "To exclude/include an ICA component **click on mne_browse window**: the **red** ones will be excluded. To keep the new excluded ICA components CLOSE the mne_browe window!"
   ]
  },
  {
   "cell_type": "markdown",
   "metadata": {},
   "source": [
    "## Apply ica solution to raw data and save the result"
   ]
  },
  {
   "cell_type": "code",
   "execution_count": null,
   "metadata": {
    "collapsed": true
   },
   "outputs": [],
   "source": [
    "ica.exclude"
   ]
  },
  {
   "cell_type": "code",
   "execution_count": null,
   "metadata": {
    "collapsed": true
   },
   "outputs": [],
   "source": [
    "%%capture\n",
    "ica.apply(raw)\n",
    "raw.save(new_raw_ica_file, overwrite=True)\n",
    "ica.save(ica_solution_file)"
   ]
  },
  {
   "cell_type": "code",
   "execution_count": null,
   "metadata": {
    "collapsed": true
   },
   "outputs": [],
   "source": [
    "ica.exclude"
   ]
  },
  {
   "cell_type": "code",
   "execution_count": null,
   "metadata": {
    "collapsed": true
   },
   "outputs": [],
   "source": [
    "new_raw_ica_file"
   ]
  },
  {
   "cell_type": "code",
   "execution_count": null,
   "metadata": {
    "collapsed": true
   },
   "outputs": [],
   "source": []
  }
 ],
 "metadata": {
  "kernelspec": {
   "display_name": "Python 2",
   "language": "python",
   "name": "python2"
  },
  "language_info": {
   "codemirror_mode": {
    "name": "ipython",
    "version": 2
   },
   "file_extension": ".py",
   "mimetype": "text/x-python",
   "name": "python",
   "nbconvert_exporter": "python",
   "pygments_lexer": "ipython2",
   "version": "2.7.12"
  }
 },
 "nbformat": 4,
 "nbformat_minor": 1
}
