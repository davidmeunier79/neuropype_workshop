{
 "cells": [
  {
   "cell_type": "markdown",
   "metadata": {},
   "source": [
    "# Import Libraries"
   ]
  },
  {
   "cell_type": "code",
   "execution_count": null,
   "metadata": {
    "collapsed": true
   },
   "outputs": [],
   "source": [
    "import numpy as np\n",
    "import os\n",
    "import matplotlib.pyplot as plt\n",
    "import mne\n",
    "\n",
    "from mne.viz import plot_topomap\n",
    "from mne.io import read_raw_fif\n",
    "from mne import pick_types\n",
    "\n",
    "from params import *\n",
    "from params_power import power_analysis_name\n",
    "from params_power import fmin, fmax"
   ]
  },
  {
   "cell_type": "markdown",
   "metadata": {},
   "source": [
    "# Load PSD data"
   ]
  },
  {
   "cell_type": "code",
   "execution_count": null,
   "metadata": {},
   "outputs": [],
   "source": [
    "sbj_id = subject_ids[0]\n",
    "session_id = sessions[0]\n",
    "\n",
    "# read PSD in the workflow dir; it's in .npz format\n",
    "psd_fname = os.path.join(data_path, power_analysis_name, 'power',\n",
    "                         '_sess_index_' + session_id + '_subject_id_' + sbj_id,\n",
    "                         'power', sbj_id + '_task-rest_run-01_meg_raw_filt_dsamp_ica-psds.npz')\n",
    "\n",
    "npzfile = np.load(psd_fname)\n",
    "print('the .npz file contain {} \\n'.format(npzfile.files))\n",
    "\n",
    "# is a matrix with dim n_channels x n_freqs\n",
    "psds = npzfile['psds']\n",
    "print('psds is a matrix {} \\n'.format(psds.shape))\n",
    "\n",
    "# list of frequencies in which psds was computed; its length = columns of psds\n",
    "freqs = npzfile['freqs']\n",
    "print('freqs contains {} frequencies \\n'.format(len(freqs)))"
   ]
  },
  {
   "cell_type": "markdown",
   "metadata": {},
   "source": [
    "# PLOT mean PSD"
   ]
  },
  {
   "cell_type": "code",
   "execution_count": null,
   "metadata": {},
   "outputs": [],
   "source": [
    "f, ax = plt.subplots()\n",
    "psds_DB = 10 * np.log10(psds)\n",
    "psds_mean = psds_DB.mean(0)\n",
    "psds_std = psds_DB.std(0)\n",
    "\n",
    "ax.plot(freqs, psds_mean, color='g')\n",
    "ax.fill_between(freqs, psds_mean - psds_std, psds_mean + psds_std,\n",
    "                color='g', alpha=.5)\n",
    "ax.set(title='Welch PSD', xlabel='Frequency',\n",
    "       ylabel='Power Spectral Density (dB)')\n",
    "plt.show()"
   ]
  },
  {
   "cell_type": "markdown",
   "metadata": {},
   "source": [
    "# Read raw data"
   ]
  },
  {
   "cell_type": "code",
   "execution_count": null,
   "metadata": {},
   "outputs": [],
   "source": [
    "raw_fname = os.path.join(data_path, sbj_id, session_id, 'meg',\n",
    "                         sbj_id + '_task-rest_run-01_meg_raw_filt_dsamp_ica.fif')\n",
    "\n",
    "raw = read_raw_fif(raw_fname, preload=True)\n",
    "select_sensors = pick_types(raw.info, meg=True, ref_meg=False, eeg=False)\n",
    "sens_loc = [raw.info['chs'][i]['loc'][:3] for i in select_sensors]\n",
    "sens_loc = np.array(sens_loc)\n",
    "sens_name = [raw.info['chs'][i]['ch_name'][:5] for i in select_sensors]\n",
    "print(sens_loc.shape)"
   ]
  },
  {
   "cell_type": "markdown",
   "metadata": {},
   "source": [
    "# Compute mean PSD for each frequency band"
   ]
  },
  {
   "cell_type": "code",
   "execution_count": null,
   "metadata": {},
   "outputs": [],
   "source": [
    "# compute mean psd for each frequency band\n",
    "freq_bands = [[2, 4], [5, 7], [8, 12], [13, 29], [30, 59], [60, 90]]\n",
    "freq_band_names = ['delta', 'theta', 'alpha', 'beta', 'gamma1', 'gamma2']\n",
    "\n",
    "n_chan, _ = psds.shape\n",
    "n_fr = len(freq_bands)\n",
    "\n",
    "M_px = np.empty([n_chan, n_fr])\n",
    "\n",
    "M_px[:, 0] = np.mean(psds[:, (freqs >= 2)*(freqs <= 4)], 1)  # delta\n",
    "M_px[:, 1] = np.mean(psds[:, (freqs >= 5)*(freqs <= 7)], 1)  # theta\n",
    "M_px[:, 2] = np.mean(psds[:, (freqs >= 8)*(freqs <= 12)], 1)  # alpha\n",
    "M_px[:, 3] = np.mean(psds[:, (freqs >= 13)*(freqs <= 29)], 1)  # beta\n",
    "M_px[:, 4] = np.mean(psds[:, (freqs >= 30)*(freqs <= 59)], 1)  # gamma1\n",
    "M_px[:, 5] = np.mean(psds[:, (freqs >= 60)*(freqs <= 90)], 1)  # gamma2\n",
    "\n",
    "minax = -2\n",
    "maxax = 2\n",
    "\n",
    "# plot PSD in frequency band, before we need the sensors locations\n",
    "# read the raw\n",
    "\n",
    "\n",
    "for f in range(n_fr):\n",
    "    fig = plt.figure(figsize=(10, 5))\n",
    "    ax, _ = plot_topomap(M_px[:, f], sens_loc[:, :2], contours=False)\n",
    "    fig.colorbar(ax, shrink=0.25)\n",
    "    fig.suptitle(freq_band_names[f])\n",
    "\n",
    "    fig.colorbar(ax, shrink=0.25)\n"
   ]
  },
  {
   "cell_type": "code",
   "execution_count": null,
   "metadata": {},
   "outputs": [],
   "source": []
  },
  {
   "cell_type": "code",
   "execution_count": null,
   "metadata": {
    "collapsed": true
   },
   "outputs": [],
   "source": []
  }
 ],
 "metadata": {
  "kernelspec": {
   "display_name": "Python 2",
   "language": "python",
   "name": "python2"
  },
  "language_info": {
   "codemirror_mode": {
    "name": "ipython",
    "version": 2
   },
   "file_extension": ".py",
   "mimetype": "text/x-python",
   "name": "python",
   "nbconvert_exporter": "python",
   "pygments_lexer": "ipython2",
   "version": "2.7.13"
  }
 },
 "nbformat": 4,
 "nbformat_minor": 2
}
